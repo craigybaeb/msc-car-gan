{
  "nbformat": 4,
  "nbformat_minor": 0,
  "metadata": {
    "colab": {
      "name": "WGAN Improved",
      "provenance": [],
      "collapsed_sections": [],
      "machine_shape": "hm",
      "include_colab_link": true
    },
    "kernelspec": {
      "display_name": "Python 3",
      "language": "python",
      "name": "python3"
    },
    "language_info": {
      "codemirror_mode": {
        "name": "ipython",
        "version": 3
      },
      "file_extension": ".py",
      "mimetype": "text/x-python",
      "name": "python",
      "nbconvert_exporter": "python",
      "pygments_lexer": "ipython3",
      "version": "3.7.0"
    },
    "accelerator": "GPU"
  },
  "cells": [
    {
      "cell_type": "markdown",
      "metadata": {
        "id": "view-in-github",
        "colab_type": "text"
      },
      "source": [
        "<a href=\"https://colab.research.google.com/github/craigybaeb/msc-car-gan/blob/main/WGAN.ipynb\" target=\"_parent\"><img src=\"https://colab.research.google.com/assets/colab-badge.svg\" alt=\"Open In Colab\"/></a>"
      ]
    },
    {
      "cell_type": "markdown",
      "metadata": {
        "id": "B8ZBzs92yAAV"
      },
      "source": [
        "# WGAN-GP overriding `Model.train_step`\n",
        "\n",
        "**Author:** Craig Pirie <br>\n",
        "**Date created:** 1/7/21<br>\n",
        "**Last modified:** 1/7/21<br>\n",
        "**Description:** Implementation of Wasserstein GAN with Gradient Penalty."
      ]
    },
    {
      "cell_type": "markdown",
      "metadata": {
        "id": "9v9gTUcryAAX"
      },
      "source": [
        "## Wasserstein GAN (WGAN) with Gradient Penalty (GP)\n",
        "\n",
        "The original [Wasserstein GAN](https://arxiv.org/abs/1701.07875) leverages the\n",
        "Wasserstein distance to produce a value function that has better theoretical\n",
        "properties than the value function used in the original GAN paper. WGAN requires\n",
        "that the discriminator (aka the critic) lie within the space of 1-Lipschitz\n",
        "functions. The authors proposed the idea of weight clipping to achieve this\n",
        "constraint. Though weight clipping works, it can be a problematic way to enforce\n",
        "1-Lipschitz constraint and can cause undesirable behavior, e.g. a very deep WGAN\n",
        "discriminator (critic) often fails to converge.\n",
        "\n",
        "The [WGAN-GP](https://arxiv.org/pdf/1704.00028.pdf) method proposes an\n",
        "alternative to weight clipping to ensure smooth training. Instead of clipping\n",
        "the weights, the authors proposed a \"gradient penalty\" by adding a loss term\n",
        "that keeps the L2 norm of the discriminator gradients close to 1.\n"
      ]
    },
    {
      "cell_type": "markdown",
      "metadata": {
        "id": "Vf-tZ9J5yAAX"
      },
      "source": [
        "## Setup\n"
      ]
    },
    {
      "cell_type": "code",
      "metadata": {
        "id": "tM_XQbkmyAAY"
      },
      "source": [
        "import numpy as np\n",
        "import tensorflow as tf\n",
        "from tensorflow.keras.preprocessing.image import ImageDataGenerator\n",
        "from tensorflow import keras\n",
        "from tensorflow.keras import layers\n",
        "import matplotlib.pyplot as plt\n",
        "import os\n",
        "import gdown\n",
        "import tarfile\n",
        "import cv2 as cv\n",
        "\n",
        "device_name = tf.test.gpu_device_name()\n",
        "if device_name != '/device:GPU:0':\n",
        "  print('GPU device not found')\n",
        "else:\n",
        "  print(\"GPU found.\")"
      ],
      "execution_count": null,
      "outputs": []
    },
    {
      "cell_type": "code",
      "metadata": {
        "id": "1ka-pXsdCLcX"
      },
      "source": [
        "from google.colab import drive\n",
        "drive.mount('/content/drive')"
      ],
      "execution_count": null,
      "outputs": []
    },
    {
      "cell_type": "code",
      "metadata": {
        "id": "Y_MnD9OOyr8n"
      },
      "source": [
        "os.makedirs(\"cars_gan\")\n",
        "os.makedirs(\"cars\")\n",
        "os.makedirs(\"augmented\")\n",
        "\n",
        "url = \"http://ai.stanford.edu/~jkrause/car196/car_ims.tgz\"\n",
        "output = \"cars_gan/data.tgz\"\n",
        "gdown.download(url, output, quiet=False)\n",
        "\n",
        "tar = tarfile.open(output, \"r:gz\")\n",
        "tar.extractall(\"/content/cars/\")\n",
        "tar.close()"
      ],
      "execution_count": null,
      "outputs": []
    },
    {
      "cell_type": "code",
      "metadata": {
        "id": "qhlNTJSFyvcf"
      },
      "source": [
        "#instantiate the ImageDataGenerator class\n",
        "datagen = ImageDataGenerator(\n",
        "        rotation_range=40,\n",
        "        height_shift_range=0.2,\n",
        "        width_shift_range=0.2,\n",
        "        shear_range=0.2,\n",
        "        zoom_range=0.2,\n",
        "        horizontal_flip=True,\n",
        "        fill_mode='nearest')\n",
        "#loop over the data in batches and this automatically saves the images\n",
        "i = 0\n",
        "for batch in datagen.flow_from_directory('/content/cars', batch_size=12,target_size=(64,64),\n",
        "                          save_to_dir='/content/augmented', save_format='jpg'):\n",
        "    i += 1\n",
        "    if i % 1000 == 0:\n",
        "     print(str(i))\n",
        "\n",
        "    if i == 16185:\n",
        "      print(\"Finished augmentation. Dataset size: {size} images\".format(size=i*12))\n",
        "      break"
      ],
      "execution_count": null,
      "outputs": []
    },
    {
      "cell_type": "markdown",
      "metadata": {
        "id": "5_aJX80NyAAY"
      },
      "source": [
        "## Prepare the Stanford Car dataset\n",
        "\n"
      ]
    },
    {
      "cell_type": "code",
      "metadata": {
        "id": "A9OCQpqNyAAZ"
      },
      "source": [
        "IMG_SHAPE = (64, 64, 3)\n",
        "BATCH_SIZE = 128\n",
        "\n",
        "# Size of the noise vector\n",
        "noise_dim = 128\n",
        "\n",
        "dataset = keras.preprocessing.image_dataset_from_directory(\n",
        "    \"/content/augmented/\", label_mode=None, image_size=(64, 64), batch_size=32\n",
        ")\n",
        "dataset = dataset.map(lambda x: (x - 127.5) / 127.5)"
      ],
      "execution_count": null,
      "outputs": []
    },
    {
      "cell_type": "markdown",
      "metadata": {
        "id": "fwB5izmgyAAZ"
      },
      "source": [
        "## Create the discriminator (the critic in the original WGAN)\n"
      ]
    },
    {
      "cell_type": "code",
      "metadata": {
        "id": "i9IzsWVeyAAZ",
        "colab": {
          "base_uri": "https://localhost:8080/"
        },
        "outputId": "2c2edafa-d233-4a6f-9a46-7a807dde73bc"
      },
      "source": [
        "\n",
        "def conv_block(\n",
        "    x,\n",
        "    filters,\n",
        "    activation,\n",
        "    kernel_size=(3, 3),\n",
        "    strides=(1, 1),\n",
        "    padding=\"same\",\n",
        "    use_bias=True,\n",
        "    use_bn=False,\n",
        "    use_dropout=False,\n",
        "    drop_value=0.5,\n",
        "):\n",
        "    x = layers.Conv2D(\n",
        "        filters, kernel_size, strides=strides, padding=padding, use_bias=use_bias\n",
        "    )(x)\n",
        "    if use_bn:\n",
        "        x = layers.BatchNormalization()(x)\n",
        "    x = activation(x)\n",
        "    if use_dropout:\n",
        "        x = layers.Dropout(drop_value)(x)\n",
        "    return x\n",
        "\n",
        "\n",
        "def get_discriminator_model():\n",
        "    img_input = layers.Input(shape=IMG_SHAPE)\n",
        "    x = conv_block(\n",
        "        img_input,\n",
        "        64,\n",
        "        kernel_size=(5, 5),\n",
        "        strides=(2, 2),\n",
        "        use_bn=False,\n",
        "        use_bias=True,\n",
        "        activation=layers.LeakyReLU(0.2),\n",
        "        use_dropout=False,\n",
        "        drop_value=0.3,\n",
        "    )\n",
        "    x = conv_block(\n",
        "        x,\n",
        "        128,\n",
        "        kernel_size=(5, 5),\n",
        "        strides=(2, 2),\n",
        "        use_bn=False,\n",
        "        activation=layers.LeakyReLU(0.2),\n",
        "        use_bias=True,\n",
        "        use_dropout=True,\n",
        "        drop_value=0.3,\n",
        "    )\n",
        "    x = conv_block(\n",
        "        x,\n",
        "        256,\n",
        "        kernel_size=(5, 5),\n",
        "        strides=(2, 2),\n",
        "        use_bn=False,\n",
        "        activation=layers.LeakyReLU(0.2),\n",
        "        use_bias=True,\n",
        "        use_dropout=True,\n",
        "        drop_value=0.3,\n",
        "    )\n",
        "    x = conv_block(\n",
        "        x,\n",
        "        512,\n",
        "        kernel_size=(5, 5),\n",
        "        strides=(2, 2),\n",
        "        use_bn=False,\n",
        "        activation=layers.LeakyReLU(0.2),\n",
        "        use_bias=True,\n",
        "        use_dropout=False,\n",
        "        drop_value=0.3,\n",
        "    )\n",
        "\n",
        "    x = conv_block(\n",
        "        x,\n",
        "        1024,\n",
        "        kernel_size=(5, 5),\n",
        "        strides=(2, 2),\n",
        "        use_bn=False,\n",
        "        activation=layers.LeakyReLU(0.2),\n",
        "        use_bias=True,\n",
        "        use_dropout=False,\n",
        "        drop_value=0.3,\n",
        "    )\n",
        "\n",
        "    x = layers.Flatten()(x)\n",
        "    x = layers.Dropout(0.2)(x)\n",
        "    x = layers.Dense(1)(x)\n",
        "\n",
        "    d_model = keras.models.Model(img_input, x, name=\"discriminator\")\n",
        "    return d_model\n",
        "\n",
        "\n",
        "d_model = get_discriminator_model()\n",
        "d_model.summary()\n"
      ],
      "execution_count": null,
      "outputs": [
        {
          "output_type": "stream",
          "text": [
            "Model: \"discriminator\"\n",
            "_________________________________________________________________\n",
            "Layer (type)                 Output Shape              Param #   \n",
            "=================================================================\n",
            "input_4 (InputLayer)         [(None, 64, 64, 3)]       0         \n",
            "_________________________________________________________________\n",
            "conv2d_13 (Conv2D)           (None, 32, 32, 64)        4864      \n",
            "_________________________________________________________________\n",
            "leaky_re_lu_13 (LeakyReLU)   (None, 32, 32, 64)        0         \n",
            "_________________________________________________________________\n",
            "conv2d_14 (Conv2D)           (None, 16, 16, 128)       204928    \n",
            "_________________________________________________________________\n",
            "leaky_re_lu_14 (LeakyReLU)   (None, 16, 16, 128)       0         \n",
            "_________________________________________________________________\n",
            "dropout_6 (Dropout)          (None, 16, 16, 128)       0         \n",
            "_________________________________________________________________\n",
            "conv2d_15 (Conv2D)           (None, 8, 8, 256)         819456    \n",
            "_________________________________________________________________\n",
            "leaky_re_lu_15 (LeakyReLU)   (None, 8, 8, 256)         0         \n",
            "_________________________________________________________________\n",
            "dropout_7 (Dropout)          (None, 8, 8, 256)         0         \n",
            "_________________________________________________________________\n",
            "conv2d_16 (Conv2D)           (None, 4, 4, 512)         3277312   \n",
            "_________________________________________________________________\n",
            "leaky_re_lu_16 (LeakyReLU)   (None, 4, 4, 512)         0         \n",
            "_________________________________________________________________\n",
            "conv2d_17 (Conv2D)           (None, 2, 2, 1024)        13108224  \n",
            "_________________________________________________________________\n",
            "leaky_re_lu_17 (LeakyReLU)   (None, 2, 2, 1024)        0         \n",
            "_________________________________________________________________\n",
            "flatten_2 (Flatten)          (None, 4096)              0         \n",
            "_________________________________________________________________\n",
            "dropout_8 (Dropout)          (None, 4096)              0         \n",
            "_________________________________________________________________\n",
            "dense_3 (Dense)              (None, 1)                 4097      \n",
            "=================================================================\n",
            "Total params: 17,418,881\n",
            "Trainable params: 17,418,881\n",
            "Non-trainable params: 0\n",
            "_________________________________________________________________\n"
          ],
          "name": "stdout"
        }
      ]
    },
    {
      "cell_type": "markdown",
      "metadata": {
        "id": "uiwyRhDLyAAa"
      },
      "source": [
        "## Create the generator\n"
      ]
    },
    {
      "cell_type": "code",
      "metadata": {
        "id": "tOeQatQmyAAb",
        "colab": {
          "base_uri": "https://localhost:8080/"
        },
        "outputId": "96b1d76e-6b3d-4c37-9ad8-1042721cf502"
      },
      "source": [
        "\n",
        "def upsample_block(\n",
        "    x,\n",
        "    filters,\n",
        "    activation,\n",
        "    kernel_size=(3, 3),\n",
        "    strides=(1, 1),\n",
        "    up_size=(2, 2),\n",
        "    padding=\"same\",\n",
        "    use_bn=False,\n",
        "    use_bias=True,\n",
        "    use_dropout=False,\n",
        "    drop_value=0.3,\n",
        "):\n",
        "    x = layers.UpSampling2D(up_size)(x)\n",
        "    x = layers.Conv2D(\n",
        "        filters, kernel_size, strides=strides, padding=padding, use_bias=use_bias\n",
        "    )(x)\n",
        "\n",
        "    if use_bn:\n",
        "        x = layers.BatchNormalization()(x)\n",
        "\n",
        "    if activation:\n",
        "        x = activation(x)\n",
        "    if use_dropout:\n",
        "        x = layers.Dropout(drop_value)(x)\n",
        "    return x\n",
        "\n",
        "\n",
        "def get_generator_model():\n",
        "    noise = layers.Input(shape=(noise_dim,))\n",
        "    x = layers.Dense(2 * 2 * 1024, use_bias=False)(noise)\n",
        "    x = layers.BatchNormalization()(x)\n",
        "    x = layers.LeakyReLU(0.2)(x)\n",
        "\n",
        "    x = layers.Reshape((2, 2, 1024))(x)\n",
        "    x = upsample_block(\n",
        "        x,\n",
        "        512,\n",
        "        layers.LeakyReLU(0.2),\n",
        "        strides=(1, 1),\n",
        "        use_bias=False,\n",
        "        use_bn=True,\n",
        "        padding=\"same\",\n",
        "        use_dropout=False,\n",
        "    )\n",
        "    x = upsample_block(\n",
        "        x,\n",
        "        256,\n",
        "        layers.LeakyReLU(0.2),\n",
        "        strides=(1, 1),\n",
        "        use_bias=False,\n",
        "        use_bn=True,\n",
        "        padding=\"same\",\n",
        "        use_dropout=False,\n",
        "    )\n",
        "    x = upsample_block(\n",
        "        x,\n",
        "        128,\n",
        "        layers.LeakyReLU(0.2),\n",
        "        strides=(1, 1),\n",
        "        use_bias=False,\n",
        "        use_bn=True,\n",
        "        padding=\"same\",\n",
        "        use_dropout=False,\n",
        "    )\n",
        "\n",
        "    x = upsample_block(\n",
        "        x,\n",
        "        64,\n",
        "        layers.LeakyReLU(0.2),\n",
        "        strides=(1, 1),\n",
        "        use_bias=False,\n",
        "        use_bn=True,\n",
        "        padding=\"same\",\n",
        "        use_dropout=False,\n",
        "    )\n",
        "    x = upsample_block(\n",
        "        x, 3, layers.Activation(\"tanh\"), strides=(1, 1), use_bias=False, use_bn=True\n",
        "    )\n",
        "\n",
        "    g_model = keras.models.Model(noise, x, name=\"generator\")\n",
        "    return g_model\n",
        "\n",
        "\n",
        "g_model = get_generator_model()\n",
        "g_model.summary()\n"
      ],
      "execution_count": null,
      "outputs": [
        {
          "output_type": "stream",
          "text": [
            "Model: \"generator\"\n",
            "_________________________________________________________________\n",
            "Layer (type)                 Output Shape              Param #   \n",
            "=================================================================\n",
            "input_8 (InputLayer)         [(None, 128)]             0         \n",
            "_________________________________________________________________\n",
            "dense_7 (Dense)              (None, 4096)              524288    \n",
            "_________________________________________________________________\n",
            "batch_normalization_17 (Batc (None, 4096)              16384     \n",
            "_________________________________________________________________\n",
            "leaky_re_lu_28 (LeakyReLU)   (None, 4096)              0         \n",
            "_________________________________________________________________\n",
            "reshape_4 (Reshape)          (None, 2, 2, 1024)        0         \n",
            "_________________________________________________________________\n",
            "up_sampling2d_13 (UpSampling (None, 4, 4, 1024)        0         \n",
            "_________________________________________________________________\n",
            "conv2d_27 (Conv2D)           (None, 4, 4, 512)         4718592   \n",
            "_________________________________________________________________\n",
            "batch_normalization_18 (Batc (None, 4, 4, 512)         2048      \n",
            "_________________________________________________________________\n",
            "leaky_re_lu_29 (LeakyReLU)   (None, 4, 4, 512)         0         \n",
            "_________________________________________________________________\n",
            "up_sampling2d_14 (UpSampling (None, 8, 8, 512)         0         \n",
            "_________________________________________________________________\n",
            "conv2d_28 (Conv2D)           (None, 8, 8, 256)         1179648   \n",
            "_________________________________________________________________\n",
            "batch_normalization_19 (Batc (None, 8, 8, 256)         1024      \n",
            "_________________________________________________________________\n",
            "leaky_re_lu_30 (LeakyReLU)   (None, 8, 8, 256)         0         \n",
            "_________________________________________________________________\n",
            "up_sampling2d_15 (UpSampling (None, 16, 16, 256)       0         \n",
            "_________________________________________________________________\n",
            "conv2d_29 (Conv2D)           (None, 16, 16, 128)       294912    \n",
            "_________________________________________________________________\n",
            "batch_normalization_20 (Batc (None, 16, 16, 128)       512       \n",
            "_________________________________________________________________\n",
            "leaky_re_lu_31 (LeakyReLU)   (None, 16, 16, 128)       0         \n",
            "_________________________________________________________________\n",
            "up_sampling2d_16 (UpSampling (None, 32, 32, 128)       0         \n",
            "_________________________________________________________________\n",
            "conv2d_30 (Conv2D)           (None, 32, 32, 64)        73728     \n",
            "_________________________________________________________________\n",
            "batch_normalization_21 (Batc (None, 32, 32, 64)        256       \n",
            "_________________________________________________________________\n",
            "leaky_re_lu_32 (LeakyReLU)   (None, 32, 32, 64)        0         \n",
            "_________________________________________________________________\n",
            "up_sampling2d_17 (UpSampling (None, 64, 64, 64)        0         \n",
            "_________________________________________________________________\n",
            "conv2d_31 (Conv2D)           (None, 64, 64, 3)         1728      \n",
            "_________________________________________________________________\n",
            "batch_normalization_22 (Batc (None, 64, 64, 3)         12        \n",
            "_________________________________________________________________\n",
            "activation_3 (Activation)    (None, 64, 64, 3)         0         \n",
            "=================================================================\n",
            "Total params: 6,813,132\n",
            "Trainable params: 6,803,014\n",
            "Non-trainable params: 10,118\n",
            "_________________________________________________________________\n"
          ],
          "name": "stdout"
        }
      ]
    },
    {
      "cell_type": "markdown",
      "metadata": {
        "id": "H9d3IaEDyAAc"
      },
      "source": [
        "## Create the WGAN-GP model\n",
        "\n",
        "Now that we have defined our generator and discriminator, it's time to implement\n",
        "the WGAN-GP model. We will also override the `train_step` for training."
      ]
    },
    {
      "cell_type": "code",
      "metadata": {
        "id": "jSS7qrKiyAAd"
      },
      "source": [
        "class WGAN(keras.Model):\n",
        "    def __init__(\n",
        "        self,\n",
        "        discriminator,\n",
        "        generator,\n",
        "        latent_dim,\n",
        "        discriminator_extra_steps=3,\n",
        "        gp_weight=10.0,\n",
        "    ):\n",
        "        super(WGAN, self).__init__()\n",
        "        self.discriminator = discriminator\n",
        "        self.generator = generator\n",
        "        self.latent_dim = latent_dim\n",
        "        self.d_steps = discriminator_extra_steps\n",
        "        self.gp_weight = gp_weight\n",
        "\n",
        "    def compile(self, d_optimizer, g_optimizer, d_loss_fn, g_loss_fn):\n",
        "        super(WGAN, self).compile()\n",
        "        self.d_optimizer = d_optimizer\n",
        "        self.g_optimizer = g_optimizer\n",
        "        self.d_loss_fn = d_loss_fn\n",
        "        self.g_loss_fn = g_loss_fn\n",
        "\n",
        "    def gradient_penalty(self, batch_size, real_images, fake_images):\n",
        "        \"\"\" Calculates the gradient penalty.\n",
        "\n",
        "        This loss is calculated on an interpolated image\n",
        "        and added to the discriminator loss.\n",
        "        \"\"\"\n",
        "        # Get the interpolated image\n",
        "        alpha = tf.random.normal([batch_size, 1, 1, 1], 0.0, 1.0)\n",
        "        diff = fake_images - real_images\n",
        "        interpolated = real_images + alpha * diff\n",
        "\n",
        "        with tf.GradientTape() as gp_tape:\n",
        "            gp_tape.watch(interpolated)\n",
        "            # 1. Get the discriminator output for this interpolated image.\n",
        "            pred = self.discriminator(interpolated, training=True)\n",
        "\n",
        "        # 2. Calculate the gradients w.r.t to this interpolated image.\n",
        "        grads = gp_tape.gradient(pred, [interpolated])[0]\n",
        "        # 3. Calculate the norm of the gradients.\n",
        "        norm = tf.sqrt(tf.reduce_sum(tf.square(grads), axis=[1, 2, 3]))\n",
        "        gp = tf.reduce_mean((norm - 1.0) ** 2)\n",
        "        return gp\n",
        "\n",
        "    def train_step(self, real_images):\n",
        "        if isinstance(real_images, tuple):\n",
        "            real_images = real_images[0]\n",
        "\n",
        "        # Get the batch size\n",
        "        batch_size = tf.shape(real_images)[0]\n",
        "\n",
        "        # For each batch, we are going to perform the\n",
        "        # following steps as laid out in the original paper:\n",
        "        # 1. Train the generator and get the generator loss\n",
        "        # 2. Train the discriminator and get the discriminator loss\n",
        "        # 3. Calculate the gradient penalty\n",
        "        # 4. Multiply this gradient penalty with a constant weight factor\n",
        "        # 5. Add the gradient penalty to the discriminator loss\n",
        "        # 6. Return the generator and discriminator losses as a loss dictionary\n",
        "\n",
        "        # Train the discriminator first. The original paper recommends training\n",
        "        # the discriminator for `x` more steps (typically 5) as compared to\n",
        "        # one step of the generator. Here we will train it for 3 extra steps\n",
        "        # as compared to 5 to reduce the training time.\n",
        "        for i in range(self.d_steps):\n",
        "            # Get the latent vector\n",
        "            random_latent_vectors = tf.random.normal(\n",
        "                shape=(batch_size, self.latent_dim)\n",
        "            )\n",
        "            with tf.GradientTape() as tape:\n",
        "                # Generate fake images from the latent vector\n",
        "                fake_images = self.generator(random_latent_vectors, training=True)\n",
        "                # Get the logits for the fake images\n",
        "                fake_logits = self.discriminator(fake_images, training=True)\n",
        "                # Get the logits for the real images\n",
        "                real_logits = self.discriminator(real_images, training=True)\n",
        "\n",
        "                # Calculate the discriminator loss using the fake and real image logits\n",
        "                d_cost = self.d_loss_fn(real_img=real_logits, fake_img=fake_logits)\n",
        "                # Calculate the gradient penalty\n",
        "                gp = self.gradient_penalty(batch_size, real_images, fake_images)\n",
        "                # Add the gradient penalty to the original discriminator loss\n",
        "                d_loss = d_cost + gp * self.gp_weight\n",
        "\n",
        "            # Get the gradients w.r.t the discriminator loss\n",
        "            d_gradient = tape.gradient(d_loss, self.discriminator.trainable_variables)\n",
        "            # Update the weights of the discriminator using the discriminator optimizer\n",
        "            self.d_optimizer.apply_gradients(\n",
        "                zip(d_gradient, self.discriminator.trainable_variables)\n",
        "            )\n",
        "\n",
        "        # Train the generator\n",
        "        # Get the latent vector\n",
        "        random_latent_vectors = tf.random.normal(shape=(batch_size, self.latent_dim))\n",
        "        with tf.GradientTape() as tape:\n",
        "            # Generate fake images using the generator\n",
        "            generated_images = self.generator(random_latent_vectors, training=True)\n",
        "            # Get the discriminator logits for fake images\n",
        "            gen_img_logits = self.discriminator(generated_images, training=True)\n",
        "            # Calculate the generator loss\n",
        "            g_loss = self.g_loss_fn(gen_img_logits)\n",
        "\n",
        "        # Get the gradients w.r.t the generator loss\n",
        "        gen_gradient = tape.gradient(g_loss, self.generator.trainable_variables)\n",
        "        # Update the weights of the generator using the generator optimizer\n",
        "        self.g_optimizer.apply_gradients(\n",
        "            zip(gen_gradient, self.generator.trainable_variables)\n",
        "        )\n",
        "        return {\"d_loss\": d_loss, \"g_loss\": g_loss}"
      ],
      "execution_count": null,
      "outputs": []
    },
    {
      "cell_type": "markdown",
      "metadata": {
        "id": "lUBC4MIuyAAd"
      },
      "source": [
        "## Create a Keras callback that periodically saves generated images"
      ]
    },
    {
      "cell_type": "code",
      "metadata": {
        "id": "Bbj6QXITyAAe"
      },
      "source": [
        "class GANMonitor(keras.callbacks.Callback):\n",
        "    def __init__(self, num_img=6, latent_dim=128):\n",
        "        self.num_img = num_img\n",
        "        self.latent_dim = latent_dim\n",
        "\n",
        "    def on_epoch_end(self, epoch, logs=None):\n",
        "        random_latent_vectors = tf.random.normal(shape=(self.num_img, self.latent_dim))\n",
        "        generated_images = self.model.generator(random_latent_vectors)\n",
        "        generated_images = (generated_images * 127.5) + 127.5\n",
        "\n",
        "        for i in range(self.num_img):\n",
        "            img = generated_images[i].numpy()\n",
        "            img = keras.preprocessing.image.array_to_img(img)\n",
        "            img.save(\"/content/drive/My Drive/Masters/AFTER_TEST/generated_img_{epoch}_{i}.png\".format(i=i, epoch=epoch))\n",
        "\n"
      ],
      "execution_count": null,
      "outputs": []
    },
    {
      "cell_type": "markdown",
      "metadata": {
        "id": "siKODL2PyAAe"
      },
      "source": [
        "## Train the end-to-end model\n"
      ]
    },
    {
      "cell_type": "markdown",
      "metadata": {
        "id": "2kUo7oJzawA6"
      },
      "source": [
        "## Default"
      ]
    },
    {
      "cell_type": "code",
      "metadata": {
        "id": "FQd1TWFoyAAe"
      },
      "source": [
        "# Instantiate the optimizer for both networks\n",
        "# (learning_rate=0.0002, beta_1=0.5 are recommended)\n",
        "generator_optimizer = keras.optimizers.Adam(\n",
        "    learning_rate=0.0002, beta_1=0.5, beta_2=0.9\n",
        ")\n",
        "discriminator_optimizer = keras.optimizers.Adam(\n",
        "    learning_rate=0.0002, beta_1=0.5, beta_2=0.9\n",
        ")\n",
        "\n",
        "# Define the loss functions for the discriminator,\n",
        "# which should be (fake_loss - real_loss).\n",
        "# We will add the gradient penalty later to this loss function.\n",
        "def discriminator_loss(real_img, fake_img):\n",
        "    real_loss = tf.reduce_mean(real_img)\n",
        "    fake_loss = tf.reduce_mean(fake_img)\n",
        "    return fake_loss - real_loss\n",
        "\n",
        "\n",
        "# Define the loss functions for the generator.\n",
        "def generator_loss(fake_img):\n",
        "    return -tf.reduce_mean(fake_img)\n",
        "\n",
        "\n",
        "# Set the number of epochs for trainining.\n",
        "epochs = 20\n",
        "\n",
        "# Instantiate the customer `GANMonitor` Keras callback.\n",
        "cbk = GANMonitor(num_img=10, latent_dim=noise_dim)\n",
        "\n",
        "# Instantiate the WGAN model.\n",
        "wgan = WGAN(\n",
        "    discriminator=d_model,\n",
        "    generator=g_model,\n",
        "    latent_dim=noise_dim,\n",
        "    discriminator_extra_steps=3,\n",
        ")\n",
        "\n",
        "# Compile the WGAN model.\n",
        "wgan.compile(\n",
        "    d_optimizer=discriminator_optimizer,\n",
        "    g_optimizer=generator_optimizer,\n",
        "    g_loss_fn=generator_loss,\n",
        "    d_loss_fn=discriminator_loss,\n",
        ")\n",
        "\n",
        "# Start training the model.\n",
        "wgan.fit(dataset, batch_size=BATCH_SIZE, epochs=epochs, callbacks=[cbk])"
      ],
      "execution_count": null,
      "outputs": []
    },
    {
      "cell_type": "markdown",
      "metadata": {
        "id": "vRoO0GKzazWj"
      },
      "source": [
        "## Learning rate"
      ]
    },
    {
      "cell_type": "markdown",
      "metadata": {
        "id": "BF-dNXr8yAAf"
      },
      "source": [
        "Display the last generated images:\n"
      ]
    },
    {
      "cell_type": "code",
      "metadata": {
        "id": "9BCV7wwPyAAf"
      },
      "source": [
        "# Instantiate the optimizer for both networks\n",
        "# (learning_rate=0.0002, beta_1=0.5 are recommended)\n",
        "generator_optimizer = keras.optimizers.Adam(\n",
        "    learning_rate=0.0001, beta_1=0.5, beta_2=0.9\n",
        ")\n",
        "discriminator_optimizer = keras.optimizers.Adam(\n",
        "    learning_rate=0.0001, beta_1=0.5, beta_2=0.9\n",
        ")\n",
        "\n",
        "# Define the loss functions for the discriminator,\n",
        "# which should be (fake_loss - real_loss).\n",
        "# We will add the gradient penalty later to this loss function.\n",
        "def discriminator_loss(real_img, fake_img):\n",
        "    real_loss = tf.reduce_mean(real_img)\n",
        "    fake_loss = tf.reduce_mean(fake_img)\n",
        "    return fake_loss - real_loss\n",
        "\n",
        "\n",
        "# Define the loss functions for the generator.\n",
        "def generator_loss(fake_img):\n",
        "    return -tf.reduce_mean(fake_img)\n",
        "\n",
        "\n",
        "# Set the number of epochs for trainining.\n",
        "epochs = 20\n",
        "\n",
        "# Instantiate the customer `GANMonitor` Keras callback.\n",
        "cbk = GANMonitor(num_img=10, latent_dim=noise_dim)\n",
        "\n",
        "# Instantiate the WGAN model.\n",
        "wgan = WGAN(\n",
        "    discriminator=d_model,\n",
        "    generator=g_model,\n",
        "    latent_dim=noise_dim,\n",
        "    discriminator_extra_steps=3,\n",
        ")\n",
        "\n",
        "# Compile the WGAN model.\n",
        "wgan.compile(\n",
        "    d_optimizer=discriminator_optimizer,\n",
        "    g_optimizer=generator_optimizer,\n",
        "    g_loss_fn=generator_loss,\n",
        "    d_loss_fn=discriminator_loss,\n",
        ")\n",
        "\n",
        "# Start training the model.\n",
        "wgan.fit(dataset, batch_size=BATCH_SIZE, epochs=epochs, callbacks=[cbk])"
      ],
      "execution_count": null,
      "outputs": []
    },
    {
      "cell_type": "markdown",
      "metadata": {
        "id": "lKcmksnSqWrM"
      },
      "source": [
        "## BETA"
      ]
    },
    {
      "cell_type": "code",
      "metadata": {
        "id": "mRfXdRodqXdD"
      },
      "source": [
        "# Instantiate the optimizer for both networks\n",
        "# (learning_rate=0.0002, beta_1=0.5 are recommended)\n",
        "generator_optimizer = keras.optimizers.Adam(\n",
        "    learning_rate=0.0001, beta_1=0.3, beta_2=0.9\n",
        ")\n",
        "discriminator_optimizer = keras.optimizers.Adam(\n",
        "    learning_rate=0.0001, beta_1=0.3, beta_2=0.9\n",
        ")\n",
        "\n",
        "# Define the loss functions for the discriminator,\n",
        "# which should be (fake_loss - real_loss).\n",
        "# We will add the gradient penalty later to this loss function.\n",
        "def discriminator_loss(real_img, fake_img):\n",
        "    real_loss = tf.reduce_mean(real_img)\n",
        "    fake_loss = tf.reduce_mean(fake_img)\n",
        "    return fake_loss - real_loss\n",
        "\n",
        "\n",
        "# Define the loss functions for the generator.\n",
        "def generator_loss(fake_img):\n",
        "    return -tf.reduce_mean(fake_img)\n",
        "\n",
        "\n",
        "# Set the number of epochs for trainining.\n",
        "epochs = 20\n",
        "\n",
        "# Instantiate the customer `GANMonitor` Keras callback.\n",
        "cbk = GANMonitor(num_img=10, latent_dim=noise_dim)\n",
        "\n",
        "# Instantiate the WGAN model.\n",
        "wgan = WGAN(\n",
        "    discriminator=d_model,\n",
        "    generator=g_model,\n",
        "    latent_dim=noise_dim,\n",
        "    discriminator_extra_steps=3,\n",
        ")\n",
        "\n",
        "# Compile the WGAN model.\n",
        "wgan.compile(\n",
        "    d_optimizer=discriminator_optimizer,\n",
        "    g_optimizer=generator_optimizer,\n",
        "    g_loss_fn=generator_loss,\n",
        "    d_loss_fn=discriminator_loss,\n",
        ")\n",
        "\n",
        "# Start training the model.\n",
        "wgan.fit(dataset, batch_size=BATCH_SIZE, epochs=epochs, callbacks=[cbk])"
      ],
      "execution_count": null,
      "outputs": []
    },
    {
      "cell_type": "markdown",
      "metadata": {
        "id": "AHL8MLLSw7k6"
      },
      "source": [
        "## EXTRA STEPS"
      ]
    },
    {
      "cell_type": "code",
      "metadata": {
        "id": "VsXeOopnrM22"
      },
      "source": [
        "# Instantiate the optimizer for both networks\n",
        "# (learning_rate=0.0002, beta_1=0.5 are recommended)\n",
        "generator_optimizer = keras.optimizers.Adam(\n",
        "    learning_rate=0.0002, beta_1=0.5, beta_2=0.9\n",
        ")\n",
        "discriminator_optimizer = keras.optimizers.Adam(\n",
        "    learning_rate=0.0002, beta_1=0.5, beta_2=0.9\n",
        ")\n",
        "\n",
        "# Define the loss functions for the discriminator,\n",
        "# which should be (fake_loss - real_loss).\n",
        "# We will add the gradient penalty later to this loss function.\n",
        "def discriminator_loss(real_img, fake_img):\n",
        "    real_loss = tf.reduce_mean(real_img)\n",
        "    fake_loss = tf.reduce_mean(fake_img)\n",
        "    return fake_loss - real_loss\n",
        "\n",
        "\n",
        "# Define the loss functions for the generator.\n",
        "def generator_loss(fake_img):\n",
        "    return -tf.reduce_mean(fake_img)\n",
        "\n",
        "\n",
        "# Set the number of epochs for trainining.\n",
        "epochs = 20\n",
        "\n",
        "# Instantiate the customer `GANMonitor` Keras callback.\n",
        "cbk = GANMonitor(num_img=10, latent_dim=noise_dim)\n",
        "\n",
        "# Instantiate the WGAN model.\n",
        "wgan = WGAN(\n",
        "    discriminator=d_model,\n",
        "    generator=g_model,\n",
        "    latent_dim=noise_dim,\n",
        "    discriminator_extra_steps=5,\n",
        ")\n",
        "\n",
        "# Compile the WGAN model.\n",
        "wgan.compile(\n",
        "    d_optimizer=discriminator_optimizer,\n",
        "    g_optimizer=generator_optimizer,\n",
        "    g_loss_fn=generator_loss,\n",
        "    d_loss_fn=discriminator_loss,\n",
        ")\n",
        "\n",
        "# Start training the model.\n",
        "wgan.fit(dataset, batch_size=BATCH_SIZE, epochs=epochs, callbacks=[cbk])"
      ],
      "execution_count": null,
      "outputs": []
    },
    {
      "cell_type": "markdown",
      "metadata": {
        "id": "lxepB_0qFTmB"
      },
      "source": [
        "# Evaluate"
      ]
    },
    {
      "cell_type": "code",
      "metadata": {
        "id": "9NhVw8tgzQH-"
      },
      "source": [
        "from IPython.display import Image, display\n",
        "!pip install pytorch-fid"
      ],
      "execution_count": null,
      "outputs": []
    },
    {
      "cell_type": "code",
      "metadata": {
        "colab": {
          "base_uri": "https://localhost:8080/"
        },
        "id": "r_j-xItEzHea",
        "outputId": "42f2dff5-1474-417c-eebd-4e41fb3f84b8"
      },
      "source": [
        "#Default\n",
        "!python -m pytorch_fid '/content/augmented' '/content/drive/My Drive/Masters/WGAN_LAST'"
      ],
      "execution_count": null,
      "outputs": [
        {
          "output_type": "stream",
          "text": [
            "tcmalloc: large alloc 3181559808 bytes == 0x55bf3d264000 @  0x7f71bccef1e7 0x7f71ba72f46e 0x7f71ba77fc7b 0x7f71ba78035f 0x7f71ba822103 0x55bec8b11010 0x55bec8b10da0 0x55bec8b852f9 0x55bec8b7fc35 0x55bec8b1273a 0x55bec8b80b0e 0x55bec8b7fc35 0x55bec8b1273a 0x55bec8b80b0e 0x55bec8b80235 0x55bec8b1273a 0x55bec8b80b0e 0x55bec8b1265a 0x55bec8b80b0e 0x55bec8b1265a 0x55bec8b84f40 0x55bec8b7fc35 0x55bec8b7f933 0x55bec8b7dda0 0x55bec8b10ea9 0x55bec8b10da0 0x55bec8b84bb3 0x55bec8b7fc35 0x55bec8b1273a 0x55bec8b80b0e 0x55bec8b7fc35\n",
            "  0% 0/3884 [00:00<?, ?it/s]/usr/local/lib/python3.7/dist-packages/torch/nn/functional.py:718: UserWarning: Named tensors and all their associated APIs are an experimental feature and subject to change. Please do not use them for anything important until they are released as stable. (Triggered internally at  /pytorch/c10/core/TensorImpl.h:1156.)\n",
            "  return torch.max_pool2d(input, kernel_size, stride, padding, dilation, ceil_mode)\n",
            "100% 3884/3884 [07:43<00:00,  8.39it/s]\n",
            "tcmalloc: large alloc 3181559808 bytes == 0x55bffac90000 @  0x7f71bccef1e7 0x7f71ba72f46e 0x7f71ba77fc7b 0x7f71ba77fd97 0x7f71ba7794a5 0x7f71ba824823 0x55bec8b110a4 0x55bec8b10da0 0x55bec8b85868 0x55bec8b7fc35 0x55bec8a51e2c 0x7f71ba76cef7 0x55bec8b10f97 0x55bec8b10da0 0x55bec8b84bb3 0x55bec8b7fc35 0x55bec8b1273a 0x55bec8b8193b 0x55bec8b7fc35 0x55bec8b1273a 0x55bec8b80b0e 0x55bec8b80235 0x55bec8b1273a 0x55bec8b80b0e 0x55bec8b1265a 0x55bec8b80b0e 0x55bec8b1265a 0x55bec8b84f40 0x55bec8b7fc35 0x55bec8b7f933 0x55bec8b7dda0\n",
            "Warning: batch size is bigger than the data size. Setting batch size to data size\n",
            "100% 1/1 [00:02<00:00,  2.34s/it]\n",
            "FID:  432.7342636187919\n"
          ],
          "name": "stdout"
        }
      ]
    },
    {
      "cell_type": "code",
      "metadata": {
        "colab": {
          "base_uri": "https://localhost:8080/",
          "height": 209
        },
        "id": "sTk5jdU2QfPt",
        "outputId": "9f1316c5-24b4-48ae-c5d0-cabfcbc9f641"
      },
      "source": [
        "display(Image('/content/drive/My Drive/Masters/WGAN_LAST/Copy of generated_img_19_0.png'))\n",
        "display(Image('/content/drive/My Drive/Masters/WGAN_LAST/Copy of generated_img_19_1.png'))\n",
        "display(Image('/content/drive/My Drive/Masters/WGAN_LAST/Copy of generated_img_19_2.png'))"
      ],
      "execution_count": null,
      "outputs": [
        {
          "output_type": "display_data",
          "data": {
            "image/png": "[encoded data removed]",
            "text/plain": [
              "<IPython.core.display.Image object>"
            ]
          },
          "metadata": {
            "tags": []
          }
        },
        {
          "output_type": "display_data",
          "data": {
            "image/png": "[encoded data removed]",
            "text/plain": [
              "<IPython.core.display.Image object>"
            ]
          },
          "metadata": {
            "tags": []
          }
        },
        {
          "output_type": "display_data",
          "data": {
            "image/png": "[encoded data removed]",
            "text/plain": [
              "<IPython.core.display.Image object>"
            ]
          },
          "metadata": {
            "tags": []
          }
        }
      ]
    },
    {
      "cell_type": "code",
      "metadata": {
        "colab": {
          "base_uri": "https://localhost:8080/"
        },
        "id": "hiYBNMPXzM07",
        "outputId": "b99d0cf8-5e5a-44e2-cba8-d06c2baebe5b"
      },
      "source": [
        "#Learning Rate\n",
        "!python -m pytorch_fid '/content/augmented' '/content/drive/My Drive/Masters/WGAN_LAST_LR'"
      ],
      "execution_count": null,
      "outputs": [
        {
          "output_type": "stream",
          "text": [
            "tcmalloc: large alloc 3181559808 bytes == 0x562bc142a000 @  0x7f043cd331e7 0x7f043a77346e 0x7f043a7c3c7b 0x7f043a7c435f 0x7f043a866103 0x562b4de2d010 0x562b4de2cda0 0x562b4dea12f9 0x562b4de9bc35 0x562b4de2e73a 0x562b4de9cb0e 0x562b4de9bc35 0x562b4de2e73a 0x562b4de9cb0e 0x562b4de9c235 0x562b4de2e73a 0x562b4de9cb0e 0x562b4de2e65a 0x562b4de9cb0e 0x562b4de2e65a 0x562b4dea0f40 0x562b4de9bc35 0x562b4de9b933 0x562b4de99da0 0x562b4de2cea9 0x562b4de2cda0 0x562b4dea0bb3 0x562b4de9bc35 0x562b4de2e73a 0x562b4de9cb0e 0x562b4de9bc35\n",
            "  0% 0/3884 [00:00<?, ?it/s]/usr/local/lib/python3.7/dist-packages/torch/nn/functional.py:718: UserWarning: Named tensors and all their associated APIs are an experimental feature and subject to change. Please do not use them for anything important until they are released as stable. (Triggered internally at  /pytorch/c10/core/TensorImpl.h:1156.)\n",
            "  return torch.max_pool2d(input, kernel_size, stride, padding, dilation, ceil_mode)\n",
            "100% 3884/3884 [07:44<00:00,  8.36it/s]\n",
            "tcmalloc: large alloc 3181559808 bytes == 0x562c7ee56000 @  0x7f043cd331e7 0x7f043a77346e 0x7f043a7c3c7b 0x7f043a7c3d97 0x7f043a7bd4a5 0x7f043a868823 0x562b4de2d0a4 0x562b4de2cda0 0x562b4dea1868 0x562b4de9bc35 0x562b4dd6de2c 0x7f043a7b0ef7 0x562b4de2cf97 0x562b4de2cda0 0x562b4dea0bb3 0x562b4de9bc35 0x562b4de2e73a 0x562b4de9d93b 0x562b4de9bc35 0x562b4de2e73a 0x562b4de9cb0e 0x562b4de9c235 0x562b4de2e73a 0x562b4de9cb0e 0x562b4de2e65a 0x562b4de9cb0e 0x562b4de2e65a 0x562b4dea0f40 0x562b4de9bc35 0x562b4de9b933 0x562b4de99da0\n",
            "Warning: batch size is bigger than the data size. Setting batch size to data size\n",
            "100% 1/1 [00:02<00:00,  2.50s/it]\n",
            "FID:  454.616882104857\n"
          ],
          "name": "stdout"
        }
      ]
    },
    {
      "cell_type": "code",
      "metadata": {
        "colab": {
          "base_uri": "https://localhost:8080/",
          "height": 209
        },
        "id": "0VrhhfZ5Q704",
        "outputId": "e27f167f-2f06-4f35-efd3-319b6609df03"
      },
      "source": [
        "display(Image('/content/drive/My Drive/Masters/WGAN_LAST_LR/Copy of generated_img_19_0.png'))\n",
        "display(Image('/content/drive/My Drive/Masters/WGAN_LAST_LR/Copy of generated_img_19_1.png'))\n",
        "display(Image('/content/drive/My Drive/Masters/WGAN_LAST_LR/Copy of generated_img_19_2.png'))"
      ],
      "execution_count": null,
      "outputs": [
        {
          "output_type": "display_data",
          "data": {
            "image/png": "[encoded data removed]",
            "text/plain": [
              "<IPython.core.display.Image object>"
            ]
          },
          "metadata": {
            "tags": []
          }
        },
        {
          "output_type": "display_data",
          "data": {
            "image/png": "[encoded data removed]",
            "text/plain": [
              "<IPython.core.display.Image object>"
            ]
          },
          "metadata": {
            "tags": []
          }
        },
        {
          "output_type": "display_data",
          "data": {
            "image/png": "[encoded data removed]",
            "text/plain": [
              "<IPython.core.display.Image object>"
            ]
          },
          "metadata": {
            "tags": []
          }
        }
      ]
    },
    {
      "cell_type": "code",
      "metadata": {
        "colab": {
          "base_uri": "https://localhost:8080/"
        },
        "id": "TwxH5cFrzu9u",
        "outputId": "6b672cfb-42d2-4a16-a7ee-d5c09b9e8c9d"
      },
      "source": [
        "#Extra\n",
        "!python -m pytorch_fid '/content/augmented' '/content/drive/My Drive/Masters/WGAN_LAST_EXTRA'"
      ],
      "execution_count": null,
      "outputs": [
        {
          "output_type": "stream",
          "text": [
            "tcmalloc: large alloc 3181559808 bytes == 0x55d16b6d2000 @  0x7fae8bf511e7 0x7fae8999146e 0x7fae899e1c7b 0x7fae899e235f 0x7fae89a84103 0x55d0f85c5010 0x55d0f85c4da0 0x55d0f86392f9 0x55d0f8633c35 0x55d0f85c673a 0x55d0f8634b0e 0x55d0f8633c35 0x55d0f85c673a 0x55d0f8634b0e 0x55d0f8634235 0x55d0f85c673a 0x55d0f8634b0e 0x55d0f85c665a 0x55d0f8634b0e 0x55d0f85c665a 0x55d0f8638f40 0x55d0f8633c35 0x55d0f8633933 0x55d0f8631da0 0x55d0f85c4ea9 0x55d0f85c4da0 0x55d0f8638bb3 0x55d0f8633c35 0x55d0f85c673a 0x55d0f8634b0e 0x55d0f8633c35\n",
            "\r  0% 0/3884 [00:00<?, ?it/s]/usr/local/lib/python3.7/dist-packages/torch/nn/functional.py:718: UserWarning: Named tensors and all their associated APIs are an experimental feature and subject to change. Please do not use them for anything important until they are released as stable. (Triggered internally at  /pytorch/c10/core/TensorImpl.h:1156.)\n",
            "  return torch.max_pool2d(input, kernel_size, stride, padding, dilation, ceil_mode)\n",
            "100% 3884/3884 [07:43<00:00,  8.38it/s]\n",
            "tcmalloc: large alloc 3181559808 bytes == 0x55d2290fe000 @  0x7fae8bf511e7 0x7fae8999146e 0x7fae899e1c7b 0x7fae899e1d97 0x7fae899db4a5 0x7fae89a86823 0x55d0f85c50a4 0x55d0f85c4da0 0x55d0f8639868 0x55d0f8633c35 0x55d0f8505e2c 0x7fae899ceef7 0x55d0f85c4f97 0x55d0f85c4da0 0x55d0f8638bb3 0x55d0f8633c35 0x55d0f85c673a 0x55d0f863593b 0x55d0f8633c35 0x55d0f85c673a 0x55d0f8634b0e 0x55d0f8634235 0x55d0f85c673a 0x55d0f8634b0e 0x55d0f85c665a 0x55d0f8634b0e 0x55d0f85c665a 0x55d0f8638f40 0x55d0f8633c35 0x55d0f8633933 0x55d0f8631da0\n",
            "Warning: batch size is bigger than the data size. Setting batch size to data size\n",
            "100% 1/1 [00:02<00:00,  2.40s/it]\n",
            "FID:  400.34296924322473\n"
          ],
          "name": "stdout"
        }
      ]
    },
    {
      "cell_type": "code",
      "metadata": {
        "colab": {
          "base_uri": "https://localhost:8080/",
          "height": 209
        },
        "id": "SvG5MuHmRA2Y",
        "outputId": "2169c480-c166-4449-9482-98de44766ed6"
      },
      "source": [
        "display(Image('/content/drive/My Drive/Masters/WGAN_LAST_EXTRA/Copy of generated_img_19_0.png'))\n",
        "display(Image('/content/drive/My Drive/Masters/WGAN_LAST_EXTRA/Copy of generated_img_19_1.png'))\n",
        "display(Image('/content/drive/My Drive/Masters/WGAN_LAST_EXTRA/Copy of generated_img_19_2.png'))"
      ],
      "execution_count": null,
      "outputs": [
        {
          "output_type": "display_data",
          "data": {
            "image/png": "[encoded data removed]",
            "text/plain": [
              "<IPython.core.display.Image object>"
            ]
          },
          "metadata": {
            "tags": []
          }
        },
        {
          "output_type": "display_data",
          "data": {
            "image/png": "[encoded data removed]",
            "text/plain": [
              "<IPython.core.display.Image object>"
            ]
          },
          "metadata": {
            "tags": []
          }
        },
        {
          "output_type": "display_data",
          "data": {
            "image/png": "[encoded data removed]",
            "text/plain": [
              "<IPython.core.display.Image object>"
            ]
          },
          "metadata": {
            "tags": []
          }
        }
      ]
    },
    {
      "cell_type": "code",
      "metadata": {
        "colab": {
          "base_uri": "https://localhost:8080/"
        },
        "id": "tgSKDkpC_Ruv",
        "outputId": "fc7202bd-0ad3-406c-d4d9-29f5b4763c4f"
      },
      "source": [
        "#Beta\n",
        "!python -m pytorch_fid '/content/augmented' '/content/drive/My Drive/Masters/WGAN_LAST_BETA'"
      ],
      "execution_count": null,
      "outputs": [
        {
          "output_type": "stream",
          "text": [
            "tcmalloc: large alloc 3181559808 bytes == 0x55cdab78e000 @  0x7f10d67f61e7 0x7f10d423646e 0x7f10d4286c7b 0x7f10d428735f 0x7f10d4329103 0x55cd36f93010 0x55cd36f92da0 0x55cd370072f9 0x55cd37001c35 0x55cd36f9473a 0x55cd37002b0e 0x55cd37001c35 0x55cd36f9473a 0x55cd37002b0e 0x55cd37002235 0x55cd36f9473a 0x55cd37002b0e 0x55cd36f9465a 0x55cd37002b0e 0x55cd36f9465a 0x55cd37006f40 0x55cd37001c35 0x55cd37001933 0x55cd36fffda0 0x55cd36f92ea9 0x55cd36f92da0 0x55cd37006bb3 0x55cd37001c35 0x55cd36f9473a 0x55cd37002b0e 0x55cd37001c35\n",
            "  0% 0/3884 [00:00<?, ?it/s]/usr/local/lib/python3.7/dist-packages/torch/nn/functional.py:718: UserWarning: Named tensors and all their associated APIs are an experimental feature and subject to change. Please do not use them for anything important until they are released as stable. (Triggered internally at  /pytorch/c10/core/TensorImpl.h:1156.)\n",
            "  return torch.max_pool2d(input, kernel_size, stride, padding, dilation, ceil_mode)\n",
            "100% 3884/3884 [07:42<00:00,  8.40it/s]\n",
            "tcmalloc: large alloc 3181559808 bytes == 0x55ce691ba000 @  0x7f10d67f61e7 0x7f10d423646e 0x7f10d4286c7b 0x7f10d4286d97 0x7f10d42804a5 0x7f10d432b823 0x55cd36f930a4 0x55cd36f92da0 0x55cd37007868 0x55cd37001c35 0x55cd36ed3e2c 0x7f10d4273ef7 0x55cd36f92f97 0x55cd36f92da0 0x55cd37006bb3 0x55cd37001c35 0x55cd36f9473a 0x55cd3700393b 0x55cd37001c35 0x55cd36f9473a 0x55cd37002b0e 0x55cd37002235 0x55cd36f9473a 0x55cd37002b0e 0x55cd36f9465a 0x55cd37002b0e 0x55cd36f9465a 0x55cd37006f40 0x55cd37001c35 0x55cd37001933 0x55cd36fffda0\n",
            "Warning: batch size is bigger than the data size. Setting batch size to data size\n",
            "100% 1/1 [00:00<00:00,  4.49it/s]\n",
            "FID:  441.25052898792507\n"
          ],
          "name": "stdout"
        }
      ]
    },
    {
      "cell_type": "code",
      "metadata": {
        "colab": {
          "base_uri": "https://localhost:8080/",
          "height": 209
        },
        "id": "9Eu-56jGRGfR",
        "outputId": "e2308be4-a919-4c9d-d299-b6f77774df47"
      },
      "source": [
        "display(Image('/content/drive/My Drive/Masters/WGAN_LAST_BETA/Copy of generated_img_19_0.png'))\n",
        "display(Image('/content/drive/My Drive/Masters/WGAN_LAST_BETA/Copy of generated_img_19_1.png'))\n",
        "display(Image('/content/drive/My Drive/Masters/WGAN_LAST_BETA/Copy of generated_img_19_2.png'))"
      ],
      "execution_count": null,
      "outputs": [
        {
          "output_type": "display_data",
          "data": {
            "image/png": "[encoded data removed]",
            "text/plain": [
              "<IPython.core.display.Image object>"
            ]
          },
          "metadata": {
            "tags": []
          }
        },
        {
          "output_type": "display_data",
          "data": {
            "image/png": "[encoded data removed]",
            "text/plain": [
              "<IPython.core.display.Image object>"
            ]
          },
          "metadata": {
            "tags": []
          }
        },
        {
          "output_type": "display_data",
          "data": {
            "image/png": "[encoded data removed]",
            "text/plain": [
              "<IPython.core.display.Image object>"
            ]
          },
          "metadata": {
            "tags": []
          }
        }
      ]
    },
    {
      "cell_type": "code",
      "metadata": {
        "colab": {
          "base_uri": "https://localhost:8080/",
          "height": 299
        },
        "id": "uZM0WNGHF0AW",
        "outputId": "606694b3-68be-44f2-a1dc-20c1cf0188e7"
      },
      "source": [
        "import matplotlib.pyplot as plt\n",
        "%matplotlib inline\n",
        "plt.style.use('ggplot')\n",
        "\n",
        "x = ['DEFAULT','LEARNING RATE','EXTRA STEPS','BETA']\n",
        "FID = [432.7342636187919,454.616882104857,400.34296924322473,441.25052898792507]\n",
        "\n",
        "x_pos = [i for i, _ in enumerate(x)]\n",
        "\n",
        "plt.bar(x_pos, FID, color='green')\n",
        "plt.xlabel(\"Hyperparameter\")\n",
        "plt.ylabel(\"Fréchet Inception Distance (FI%D)\")\n",
        "plt.title(\"Quality of Generated Images For Each Hyperparameter\")\n",
        "\n",
        "plt.xticks(x_pos, x)\n",
        "axes = plt.gca()\n",
        "axes.set_ylim([350,500])\n",
        "\n",
        "plt.show()"
      ],
      "execution_count": null,
      "outputs": [
        {
          "output_type": "display_data",
          "data": {
            "image/png": "[encoded data removed]",
            "text/plain": [
              "<Figure size 432x288 with 1 Axes>"
            ]
          },
          "metadata": {}
        }
      ]
    }
  ]
}